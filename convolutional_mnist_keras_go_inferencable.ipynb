{
  "nbformat": 4,
  "nbformat_minor": 0,
  "metadata": {
    "colab": {
      "name": "convolutional_mnist_keras_go_inferencable.ipynb",
      "version": "0.3.2",
      "provenance": [],
      "collapsed_sections": [],
      "toc_visible": true
    },
    "kernelspec": {
      "name": "python3",
      "display_name": "Python 3"
    },
    "accelerator": "GPU"
  },
  "cells": [
    {
      "metadata": {
        "id": "6BUKGMuV4Rf5",
        "colab_type": "text"
      },
      "cell_type": "markdown",
      "source": [
        "# 0. Introduction"
      ]
    },
    {
      "metadata": {
        "id": "mu0z-woT4Rf6",
        "colab_type": "code",
        "colab": {}
      },
      "cell_type": "code",
      "source": [
        "%matplotlib inline"
      ],
      "execution_count": 0,
      "outputs": []
    },
    {
      "metadata": {
        "id": "lyHzYUlW4Rf-",
        "colab_type": "text"
      },
      "cell_type": "markdown",
      "source": [
        "Example based on: Deep Learning with Python by Francois Chollet:\n",
        "https://www.manning.com/books/deep-learning-with-python"
      ]
    },
    {
      "metadata": {
        "id": "pRaJGpzX4Rf-",
        "colab_type": "code",
        "colab": {
          "base_uri": "https://localhost:8080/",
          "height": 34
        },
        "outputId": "7a14b292-0ff9-4d98-945c-37ec7175c598"
      },
      "cell_type": "code",
      "source": [
        "import keras\n",
        "from keras import models\n",
        "from keras import layers\n",
        "from keras.datasets import mnist\n",
        "from keras.utils import to_categorical\n",
        "from keras import backend as K\n",
        "import matplotlib.pyplot as plt\n",
        "import tensorflow as tf"
      ],
      "execution_count": 3,
      "outputs": [
        {
          "output_type": "stream",
          "text": [
            "Using TensorFlow backend.\n"
          ],
          "name": "stderr"
        }
      ]
    },
    {
      "metadata": {
        "id": "LXOCmDUg4RgB",
        "colab_type": "text"
      },
      "cell_type": "markdown",
      "source": [
        "# 1. Load data"
      ]
    },
    {
      "metadata": {
        "id": "NFIHgPOQ4RgC",
        "colab_type": "text"
      },
      "cell_type": "markdown",
      "source": [
        "The MNIST database of handwritten digit has a training set of 60,000 examples, and a test set of 10,000 examples. It is a subset of a larger set available from NIST. The digits have been size-normalized and centered in a fixed-size image.\n",
        "It is a good database for people who want to try learning techniques and pattern recognition methods on real-world data while spending minimal efforts on preprocessing and formatting."
      ]
    },
    {
      "metadata": {
        "scrolled": true,
        "id": "V_edJPQL4RgC",
        "colab_type": "code",
        "colab": {
          "base_uri": "https://localhost:8080/",
          "height": 51
        },
        "outputId": "74d3e899-1a59-4f20-f7c9-f464481db2f3"
      },
      "cell_type": "code",
      "source": [
        "(train_images, train_labels), (test_images, test_labels) = mnist.load_data()"
      ],
      "execution_count": 4,
      "outputs": [
        {
          "output_type": "stream",
          "text": [
            "Downloading data from https://s3.amazonaws.com/img-datasets/mnist.npz\n",
            "11493376/11490434 [==============================] - 1s 0us/step\n"
          ],
          "name": "stdout"
        }
      ]
    },
    {
      "metadata": {
        "id": "Jv29lBmf4RgF",
        "colab_type": "text"
      },
      "cell_type": "markdown",
      "source": [
        "# 2. Inspect data"
      ]
    },
    {
      "metadata": {
        "id": "any55oH34RgF",
        "colab_type": "text"
      },
      "cell_type": "markdown",
      "source": [
        "Try to get a feel for the data you are using to train and test your neural network. "
      ]
    },
    {
      "metadata": {
        "id": "RaoA1QQx4RgG",
        "colab_type": "text"
      },
      "cell_type": "markdown",
      "source": [
        "## Training data"
      ]
    },
    {
      "metadata": {
        "id": "yq4b7na54RgH",
        "colab_type": "text"
      },
      "cell_type": "markdown",
      "source": [
        "- Training data will be used to train our neural network to recognize hand-written digits.\n",
        "- MNIST provides 60000 labeled training images, each 28x28 pixels"
      ]
    },
    {
      "metadata": {
        "id": "qDI8m8yp4RgI",
        "colab_type": "code",
        "outputId": "e007955a-11e3-4b4a-88d0-80f50af1f5fa",
        "colab": {
          "base_uri": "https://localhost:8080/",
          "height": 34
        }
      },
      "cell_type": "code",
      "source": [
        "train_images.shape"
      ],
      "execution_count": 5,
      "outputs": [
        {
          "output_type": "execute_result",
          "data": {
            "text/plain": [
              "(60000, 28, 28)"
            ]
          },
          "metadata": {
            "tags": []
          },
          "execution_count": 5
        }
      ]
    },
    {
      "metadata": {
        "id": "Z41G5ZoE4RgK",
        "colab_type": "code",
        "outputId": "34d151a8-1e2b-4610-e601-ed4eff5858a0",
        "colab": {
          "base_uri": "https://localhost:8080/",
          "height": 34
        }
      },
      "cell_type": "code",
      "source": [
        "train_labels.shape"
      ],
      "execution_count": 6,
      "outputs": [
        {
          "output_type": "execute_result",
          "data": {
            "text/plain": [
              "(60000,)"
            ]
          },
          "metadata": {
            "tags": []
          },
          "execution_count": 6
        }
      ]
    },
    {
      "metadata": {
        "id": "jmBISl8S4RgN",
        "colab_type": "code",
        "colab": {}
      },
      "cell_type": "code",
      "source": [
        "def show_image(images, labels, index):\n",
        "    img = images[index].reshape((28,28))\n",
        "    label = labels[index]\n",
        "    plt.imshow(img)\n",
        "    plt.title(label)\n",
        "    plt.show()"
      ],
      "execution_count": 0,
      "outputs": []
    },
    {
      "metadata": {
        "id": "aYfVNaeY4RgQ",
        "colab_type": "code",
        "outputId": "898abf19-04f7-4ce7-f046-9a57dcee878c",
        "colab": {
          "base_uri": "https://localhost:8080/",
          "height": 280
        }
      },
      "cell_type": "code",
      "source": [
        "show_image(train_images, train_labels, 10)"
      ],
      "execution_count": 8,
      "outputs": [
        {
          "output_type": "display_data",
          "data": {
            "image/png": "[encoded data removed]",
            "text/plain": [
              "<Figure size 432x288 with 1 Axes>"
            ]
          },
          "metadata": {
            "tags": []
          }
        }
      ]
    },
    {
      "metadata": {
        "id": "mmds1wvl4RgT",
        "colab_type": "text"
      },
      "cell_type": "markdown",
      "source": [
        "## Test data"
      ]
    },
    {
      "metadata": {
        "id": "zeTA9wF74RgT",
        "colab_type": "text"
      },
      "cell_type": "markdown",
      "source": [
        "- Test data will be used to validate how good our network performs on data it has never seen.\n",
        "- MNIST provides 10000 test images, each 28x28.\n",
        "- It's important to note that these should never be used in the training cycle. A 'test set' should never contain images the network has already seen during training. (read more: [Model Selection and Train/Validation/Test Sets](https://www.coursera.org/lecture/machine-learning/model-selection-and-train-validation-test-sets-QGKbr) and [How (and why) to create a good validation set](https://www.fast.ai/2017/11/13/validation-sets/))"
      ]
    },
    {
      "metadata": {
        "id": "21zeRu9_4RgU",
        "colab_type": "code",
        "outputId": "6f4ccb87-02be-4d67-851b-41e5942287db",
        "colab": {
          "base_uri": "https://localhost:8080/",
          "height": 34
        }
      },
      "cell_type": "code",
      "source": [
        "test_images.shape"
      ],
      "execution_count": 9,
      "outputs": [
        {
          "output_type": "execute_result",
          "data": {
            "text/plain": [
              "(10000, 28, 28)"
            ]
          },
          "metadata": {
            "tags": []
          },
          "execution_count": 9
        }
      ]
    },
    {
      "metadata": {
        "id": "qbllpKlf4RgW",
        "colab_type": "code",
        "outputId": "0e368718-13bb-4a9e-eeb8-f6f2a123ea86",
        "colab": {
          "base_uri": "https://localhost:8080/",
          "height": 34
        }
      },
      "cell_type": "code",
      "source": [
        "test_labels.shape"
      ],
      "execution_count": 10,
      "outputs": [
        {
          "output_type": "execute_result",
          "data": {
            "text/plain": [
              "(10000,)"
            ]
          },
          "metadata": {
            "tags": []
          },
          "execution_count": 10
        }
      ]
    },
    {
      "metadata": {
        "id": "v2sKos6M4Rgb",
        "colab_type": "code",
        "outputId": "7b01a6e6-5235-4ce1-ca96-2f82a1b2d2f2",
        "colab": {
          "base_uri": "https://localhost:8080/",
          "height": 280
        }
      },
      "cell_type": "code",
      "source": [
        "show_image(test_images, test_labels, 168)"
      ],
      "execution_count": 11,
      "outputs": [
        {
          "output_type": "display_data",
          "data": {
            "image/png": "[encoded data removed]",
            "text/plain": [
              "<Figure size 432x288 with 1 Axes>"
            ]
          },
          "metadata": {
            "tags": []
          }
        }
      ]
    },
    {
      "metadata": {
        "id": "nQ6A8fr94Rgf",
        "colab_type": "text"
      },
      "cell_type": "markdown",
      "source": [
        "# 3. Network architecture"
      ]
    },
    {
      "metadata": {
        "id": "15V4qG-t4Rgg",
        "colab_type": "text"
      },
      "cell_type": "markdown",
      "source": [
        "## 3.1. ConvNet (Feature extraction)"
      ]
    },
    {
      "metadata": {
        "id": "iYIpUnIU4Rgh",
        "colab_type": "text"
      },
      "cell_type": "markdown",
      "source": [
        "Define the network architecture that will be used for training\n",
        "\n",
        "- how many layers \n",
        "- which type of layer\n",
        "    - Convolution: #channels, kernel size, activation\n",
        "    - MaxPool: matrix size\n",
        "\n",
        "Important: ConvNets take as input tensors of shape: (image_height, image_width, channels)\n",
        "\n",
        "**Note:**\n",
        "\n",
        "Convolutional layers learn local patterns (features that can appear anywhere in the image)\n",
        "\n",
        "Dense layers learn global patterns."
      ]
    },
    {
      "metadata": {
        "id": "ZL9vf2eNAVfH",
        "colab_type": "code",
        "colab": {}
      },
      "cell_type": "code",
      "source": [
        ""
      ],
      "execution_count": 0,
      "outputs": []
    },
    {
      "metadata": {
        "id": "6SZTXo4KBsDD",
        "colab_type": "code",
        "colab": {}
      },
      "cell_type": "code",
      "source": [
        "sess = tf.get_default_session()\n",
        "K.set_session(sess)"
      ],
      "execution_count": 0,
      "outputs": []
    },
    {
      "metadata": {
        "id": "xF2WvTcuAXeZ",
        "colab_type": "text"
      },
      "cell_type": "markdown",
      "source": [
        "**A bit of tweeking to enable inferencing the model from go code:**\n",
        "* Naming of the inputlayer of the nn\n",
        "* Naming of the outputlayer of the nn\n",
        "* Tensorflow session\n",
        "* Exporting the named and tagged model from Tensorflow"
      ]
    },
    {
      "metadata": {
        "id": "oycmIk_n4Rgi",
        "colab_type": "code",
        "colab": {}
      },
      "cell_type": "code",
      "source": [
        "network = models.Sequential()\n",
        "network.add(layers.Conv2D(32, (3,3), activation='relu', input_shape=(28, 28, 1), name=\"inputLayer\"))\n",
        "network.add(layers.MaxPool2D((2, 2)))\n",
        "network.add(layers.Conv2D(64, (3, 3), activation='relu'))\n",
        "network.add(layers.MaxPool2D((2, 2)))\n",
        "network.add(layers.Conv2D(64, (3, 3), activation='relu'))"
      ],
      "execution_count": 0,
      "outputs": []
    },
    {
      "metadata": {
        "id": "VbejvCcn4Rgj",
        "colab_type": "text"
      },
      "cell_type": "markdown",
      "source": [
        "## Calculate the number of parameters\n",
        "\n",
        "number_of_filters * (filter_height * filter_width * features + 1)\n",
        "\n",
        "**For layer 1:**\n",
        "\n",
        "number_of_filters: 32\n",
        "\n",
        "filter_height: 3\n",
        "\n",
        "filter_width: 3\n",
        "\n",
        "features: 1 (in the first layer this is the RGB channels, later layers are the feature maps generated by the convolutions)\n",
        "\n",
        "32 * (3 * 3 * 1 + 1) = 320"
      ]
    },
    {
      "metadata": {
        "scrolled": true,
        "id": "wM4P80yZ4Rgl",
        "colab_type": "code",
        "outputId": "93f29e9c-9923-4dd6-d8d1-9630b5fedad9",
        "colab": {
          "base_uri": "https://localhost:8080/",
          "height": 306
        }
      },
      "cell_type": "code",
      "source": [
        "network.summary()"
      ],
      "execution_count": 14,
      "outputs": [
        {
          "output_type": "stream",
          "text": [
            "_________________________________________________________________\n",
            "Layer (type)                 Output Shape              Param #   \n",
            "=================================================================\n",
            "inputLayer (Conv2D)          (None, 26, 26, 32)        320       \n",
            "_________________________________________________________________\n",
            "max_pooling2d_1 (MaxPooling2 (None, 13, 13, 32)        0         \n",
            "_________________________________________________________________\n",
            "conv2d_1 (Conv2D)            (None, 11, 11, 64)        18496     \n",
            "_________________________________________________________________\n",
            "max_pooling2d_2 (MaxPooling2 (None, 5, 5, 64)          0         \n",
            "_________________________________________________________________\n",
            "conv2d_2 (Conv2D)            (None, 3, 3, 64)          36928     \n",
            "=================================================================\n",
            "Total params: 55,744\n",
            "Trainable params: 55,744\n",
            "Non-trainable params: 0\n",
            "_________________________________________________________________\n"
          ],
          "name": "stdout"
        }
      ]
    },
    {
      "metadata": {
        "id": "HFqs_qS_Cglu",
        "colab_type": "code",
        "colab": {
          "base_uri": "https://localhost:8080/",
          "height": 986
        },
        "outputId": "2a6bc6ff-accf-46ef-8c0b-1d94b0079979"
      },
      "cell_type": "code",
      "source": [
        "[n.name for n in tf.get_default_graph().as_graph_def().node]"
      ],
      "execution_count": 15,
      "outputs": [
        {
          "output_type": "execute_result",
          "data": {
            "text/plain": [
              "['inputLayer_input',\n",
              " 'inputLayer/random_uniform/shape',\n",
              " 'inputLayer/random_uniform/min',\n",
              " 'inputLayer/random_uniform/max',\n",
              " 'inputLayer/random_uniform/RandomUniform',\n",
              " 'inputLayer/random_uniform/sub',\n",
              " 'inputLayer/random_uniform/mul',\n",
              " 'inputLayer/random_uniform',\n",
              " 'inputLayer/kernel',\n",
              " 'inputLayer/kernel/Assign',\n",
              " 'inputLayer/kernel/read',\n",
              " 'inputLayer/Const',\n",
              " 'inputLayer/bias',\n",
              " 'inputLayer/bias/Assign',\n",
              " 'inputLayer/bias/read',\n",
              " 'inputLayer/convolution/dilation_rate',\n",
              " 'inputLayer/convolution',\n",
              " 'inputLayer/BiasAdd',\n",
              " 'inputLayer/Relu',\n",
              " 'max_pooling2d_1/MaxPool',\n",
              " 'conv2d_1/random_uniform/shape',\n",
              " 'conv2d_1/random_uniform/min',\n",
              " 'conv2d_1/random_uniform/max',\n",
              " 'conv2d_1/random_uniform/RandomUniform',\n",
              " 'conv2d_1/random_uniform/sub',\n",
              " 'conv2d_1/random_uniform/mul',\n",
              " 'conv2d_1/random_uniform',\n",
              " 'conv2d_1/kernel',\n",
              " 'conv2d_1/kernel/Assign',\n",
              " 'conv2d_1/kernel/read',\n",
              " 'conv2d_1/Const',\n",
              " 'conv2d_1/bias',\n",
              " 'conv2d_1/bias/Assign',\n",
              " 'conv2d_1/bias/read',\n",
              " 'conv2d_1/convolution/dilation_rate',\n",
              " 'conv2d_1/convolution',\n",
              " 'conv2d_1/BiasAdd',\n",
              " 'conv2d_1/Relu',\n",
              " 'max_pooling2d_2/MaxPool',\n",
              " 'conv2d_2/random_uniform/shape',\n",
              " 'conv2d_2/random_uniform/min',\n",
              " 'conv2d_2/random_uniform/max',\n",
              " 'conv2d_2/random_uniform/RandomUniform',\n",
              " 'conv2d_2/random_uniform/sub',\n",
              " 'conv2d_2/random_uniform/mul',\n",
              " 'conv2d_2/random_uniform',\n",
              " 'conv2d_2/kernel',\n",
              " 'conv2d_2/kernel/Assign',\n",
              " 'conv2d_2/kernel/read',\n",
              " 'conv2d_2/Const',\n",
              " 'conv2d_2/bias',\n",
              " 'conv2d_2/bias/Assign',\n",
              " 'conv2d_2/bias/read',\n",
              " 'conv2d_2/convolution/dilation_rate',\n",
              " 'conv2d_2/convolution',\n",
              " 'conv2d_2/BiasAdd',\n",
              " 'conv2d_2/Relu']"
            ]
          },
          "metadata": {
            "tags": []
          },
          "execution_count": 15
        }
      ]
    },
    {
      "metadata": {
        "id": "i1xgxswo4Rgl",
        "colab_type": "text"
      },
      "cell_type": "markdown",
      "source": [
        "## 3.2. Classifier layer"
      ]
    },
    {
      "metadata": {
        "id": "CHOJgJ5d4Rgm",
        "colab_type": "code",
        "colab": {}
      },
      "cell_type": "code",
      "source": [
        "network.add(layers.Flatten())\n",
        "network.add(layers.Dense(64, activation='relu'))\n",
        "network.add(layers.Dense(10, activation='softmax', name=\"inferenceLayer\"))"
      ],
      "execution_count": 0,
      "outputs": []
    },
    {
      "metadata": {
        "id": "decCCOrY4Rgo",
        "colab_type": "code",
        "outputId": "3cbf906d-3850-40d2-d10e-dfe270fe3fbd",
        "colab": {
          "base_uri": "https://localhost:8080/",
          "height": 408
        }
      },
      "cell_type": "code",
      "source": [
        "network.summary()"
      ],
      "execution_count": 17,
      "outputs": [
        {
          "output_type": "stream",
          "text": [
            "_________________________________________________________________\n",
            "Layer (type)                 Output Shape              Param #   \n",
            "=================================================================\n",
            "inputLayer (Conv2D)          (None, 26, 26, 32)        320       \n",
            "_________________________________________________________________\n",
            "max_pooling2d_1 (MaxPooling2 (None, 13, 13, 32)        0         \n",
            "_________________________________________________________________\n",
            "conv2d_1 (Conv2D)            (None, 11, 11, 64)        18496     \n",
            "_________________________________________________________________\n",
            "max_pooling2d_2 (MaxPooling2 (None, 5, 5, 64)          0         \n",
            "_________________________________________________________________\n",
            "conv2d_2 (Conv2D)            (None, 3, 3, 64)          36928     \n",
            "_________________________________________________________________\n",
            "flatten_1 (Flatten)          (None, 576)               0         \n",
            "_________________________________________________________________\n",
            "dense_1 (Dense)              (None, 64)                36928     \n",
            "_________________________________________________________________\n",
            "inferenceLayer (Dense)       (None, 10)                650       \n",
            "=================================================================\n",
            "Total params: 93,322\n",
            "Trainable params: 93,322\n",
            "Non-trainable params: 0\n",
            "_________________________________________________________________\n"
          ],
          "name": "stdout"
        }
      ]
    },
    {
      "metadata": {
        "id": "QMTq-_M93ULc",
        "colab_type": "code",
        "colab": {
          "base_uri": "https://localhost:8080/",
          "height": 1734
        },
        "outputId": "8184dae1-d1e0-4efb-fe64-4b60444104af"
      },
      "cell_type": "code",
      "source": [
        "[n.name for n in tf.get_default_graph().as_graph_def().node]"
      ],
      "execution_count": 18,
      "outputs": [
        {
          "output_type": "execute_result",
          "data": {
            "text/plain": [
              "['inputLayer_input',\n",
              " 'inputLayer/random_uniform/shape',\n",
              " 'inputLayer/random_uniform/min',\n",
              " 'inputLayer/random_uniform/max',\n",
              " 'inputLayer/random_uniform/RandomUniform',\n",
              " 'inputLayer/random_uniform/sub',\n",
              " 'inputLayer/random_uniform/mul',\n",
              " 'inputLayer/random_uniform',\n",
              " 'inputLayer/kernel',\n",
              " 'inputLayer/kernel/Assign',\n",
              " 'inputLayer/kernel/read',\n",
              " 'inputLayer/Const',\n",
              " 'inputLayer/bias',\n",
              " 'inputLayer/bias/Assign',\n",
              " 'inputLayer/bias/read',\n",
              " 'inputLayer/convolution/dilation_rate',\n",
              " 'inputLayer/convolution',\n",
              " 'inputLayer/BiasAdd',\n",
              " 'inputLayer/Relu',\n",
              " 'max_pooling2d_1/MaxPool',\n",
              " 'conv2d_1/random_uniform/shape',\n",
              " 'conv2d_1/random_uniform/min',\n",
              " 'conv2d_1/random_uniform/max',\n",
              " 'conv2d_1/random_uniform/RandomUniform',\n",
              " 'conv2d_1/random_uniform/sub',\n",
              " 'conv2d_1/random_uniform/mul',\n",
              " 'conv2d_1/random_uniform',\n",
              " 'conv2d_1/kernel',\n",
              " 'conv2d_1/kernel/Assign',\n",
              " 'conv2d_1/kernel/read',\n",
              " 'conv2d_1/Const',\n",
              " 'conv2d_1/bias',\n",
              " 'conv2d_1/bias/Assign',\n",
              " 'conv2d_1/bias/read',\n",
              " 'conv2d_1/convolution/dilation_rate',\n",
              " 'conv2d_1/convolution',\n",
              " 'conv2d_1/BiasAdd',\n",
              " 'conv2d_1/Relu',\n",
              " 'max_pooling2d_2/MaxPool',\n",
              " 'conv2d_2/random_uniform/shape',\n",
              " 'conv2d_2/random_uniform/min',\n",
              " 'conv2d_2/random_uniform/max',\n",
              " 'conv2d_2/random_uniform/RandomUniform',\n",
              " 'conv2d_2/random_uniform/sub',\n",
              " 'conv2d_2/random_uniform/mul',\n",
              " 'conv2d_2/random_uniform',\n",
              " 'conv2d_2/kernel',\n",
              " 'conv2d_2/kernel/Assign',\n",
              " 'conv2d_2/kernel/read',\n",
              " 'conv2d_2/Const',\n",
              " 'conv2d_2/bias',\n",
              " 'conv2d_2/bias/Assign',\n",
              " 'conv2d_2/bias/read',\n",
              " 'conv2d_2/convolution/dilation_rate',\n",
              " 'conv2d_2/convolution',\n",
              " 'conv2d_2/BiasAdd',\n",
              " 'conv2d_2/Relu',\n",
              " 'flatten_1/Shape',\n",
              " 'flatten_1/strided_slice/stack',\n",
              " 'flatten_1/strided_slice/stack_1',\n",
              " 'flatten_1/strided_slice/stack_2',\n",
              " 'flatten_1/strided_slice',\n",
              " 'flatten_1/Const',\n",
              " 'flatten_1/Prod',\n",
              " 'flatten_1/stack/0',\n",
              " 'flatten_1/stack',\n",
              " 'flatten_1/Reshape',\n",
              " 'dense_1/random_uniform/shape',\n",
              " 'dense_1/random_uniform/min',\n",
              " 'dense_1/random_uniform/max',\n",
              " 'dense_1/random_uniform/RandomUniform',\n",
              " 'dense_1/random_uniform/sub',\n",
              " 'dense_1/random_uniform/mul',\n",
              " 'dense_1/random_uniform',\n",
              " 'dense_1/kernel',\n",
              " 'dense_1/kernel/Assign',\n",
              " 'dense_1/kernel/read',\n",
              " 'dense_1/Const',\n",
              " 'dense_1/bias',\n",
              " 'dense_1/bias/Assign',\n",
              " 'dense_1/bias/read',\n",
              " 'dense_1/MatMul',\n",
              " 'dense_1/BiasAdd',\n",
              " 'dense_1/Relu',\n",
              " 'inferenceLayer/random_uniform/shape',\n",
              " 'inferenceLayer/random_uniform/min',\n",
              " 'inferenceLayer/random_uniform/max',\n",
              " 'inferenceLayer/random_uniform/RandomUniform',\n",
              " 'inferenceLayer/random_uniform/sub',\n",
              " 'inferenceLayer/random_uniform/mul',\n",
              " 'inferenceLayer/random_uniform',\n",
              " 'inferenceLayer/kernel',\n",
              " 'inferenceLayer/kernel/Assign',\n",
              " 'inferenceLayer/kernel/read',\n",
              " 'inferenceLayer/Const',\n",
              " 'inferenceLayer/bias',\n",
              " 'inferenceLayer/bias/Assign',\n",
              " 'inferenceLayer/bias/read',\n",
              " 'inferenceLayer/MatMul',\n",
              " 'inferenceLayer/BiasAdd',\n",
              " 'inferenceLayer/Softmax']"
            ]
          },
          "metadata": {
            "tags": []
          },
          "execution_count": 18
        }
      ]
    },
    {
      "metadata": {
        "id": "21UDE4MT4Rgq",
        "colab_type": "text"
      },
      "cell_type": "markdown",
      "source": [
        "# 4. Compilation Step"
      ]
    },
    {
      "metadata": {
        "id": "AS4l38in4Rgr",
        "colab_type": "text"
      },
      "cell_type": "markdown",
      "source": [
        "In the compilation step we define the:\n",
        "\n",
        "- the loss function\n",
        "- the optimizer\n",
        "- the evaluation metric"
      ]
    },
    {
      "metadata": {
        "id": "ZWJnV2SH4Rgt",
        "colab_type": "code",
        "colab": {}
      },
      "cell_type": "code",
      "source": [
        "network.compile(optimizer='rmsprop',\n",
        "               loss='categorical_crossentropy',\n",
        "               metrics=['accuracy'])"
      ],
      "execution_count": 0,
      "outputs": []
    },
    {
      "metadata": {
        "id": "X6t_0coT4Rgv",
        "colab_type": "text"
      },
      "cell_type": "markdown",
      "source": [
        "# 5. Data Preparation"
      ]
    },
    {
      "metadata": {
        "id": "Pdu6Zs894Rgw",
        "colab_type": "text"
      },
      "cell_type": "markdown",
      "source": [
        "Before feeding the data into the network for training, we make sure it is formatted properly."
      ]
    },
    {
      "metadata": {
        "id": "vj_C0F4T4Rgw",
        "colab_type": "text"
      },
      "cell_type": "markdown",
      "source": [
        "## Prepare the images"
      ]
    },
    {
      "metadata": {
        "id": "IN5l2bTn4Rgx",
        "colab_type": "code",
        "colab": {}
      },
      "cell_type": "code",
      "source": [
        "train_images_reshaped = train_images.reshape((60000, 28, 28, 1))\n",
        "test_images_reshaped = test_images.reshape((10000, 28, 28, 1))"
      ],
      "execution_count": 0,
      "outputs": []
    },
    {
      "metadata": {
        "id": "JNCsemj_4Rgz",
        "colab_type": "code",
        "outputId": "b50ff334-61cb-44f8-a656-26421bdb5b0d",
        "colab": {
          "base_uri": "https://localhost:8080/",
          "height": 34
        }
      },
      "cell_type": "code",
      "source": [
        "train_images_reshaped.shape"
      ],
      "execution_count": 21,
      "outputs": [
        {
          "output_type": "execute_result",
          "data": {
            "text/plain": [
              "(60000, 28, 28, 1)"
            ]
          },
          "metadata": {
            "tags": []
          },
          "execution_count": 21
        }
      ]
    },
    {
      "metadata": {
        "id": "nS-T6Gy24Rg0",
        "colab_type": "code",
        "colab": {}
      },
      "cell_type": "code",
      "source": [
        "train_images_transformed = train_images_reshaped.astype('float32') / 255\n",
        "test_images_transformed = test_images_reshaped.astype('float32') / 255"
      ],
      "execution_count": 0,
      "outputs": []
    },
    {
      "metadata": {
        "id": "lXwkY9494Rg5",
        "colab_type": "text"
      },
      "cell_type": "markdown",
      "source": [
        "## Prepare the labels"
      ]
    },
    {
      "metadata": {
        "id": "WLvbbyYU4Rg5",
        "colab_type": "code",
        "colab": {}
      },
      "cell_type": "code",
      "source": [
        "train_labels_categorical = to_categorical(train_labels)\n",
        "test_labels_categorical = to_categorical(test_labels)"
      ],
      "execution_count": 0,
      "outputs": []
    },
    {
      "metadata": {
        "id": "sYnLr4Xs4Rg7",
        "colab_type": "code",
        "outputId": "6605ce5e-96aa-42fe-fcdd-7bc25de55799",
        "colab": {
          "base_uri": "https://localhost:8080/",
          "height": 34
        }
      },
      "cell_type": "code",
      "source": [
        "train_labels_categorical[0]"
      ],
      "execution_count": 24,
      "outputs": [
        {
          "output_type": "execute_result",
          "data": {
            "text/plain": [
              "array([0., 0., 0., 0., 0., 1., 0., 0., 0., 0.], dtype=float32)"
            ]
          },
          "metadata": {
            "tags": []
          },
          "execution_count": 24
        }
      ]
    },
    {
      "metadata": {
        "id": "7_3C43or4Rg8",
        "colab_type": "text"
      },
      "cell_type": "markdown",
      "source": [
        "# 6. Network summary"
      ]
    },
    {
      "metadata": {
        "id": "1loXqnyU4Rg9",
        "colab_type": "code",
        "outputId": "5237ca4f-ce83-471c-d770-dfbc43c51997",
        "colab": {
          "base_uri": "https://localhost:8080/",
          "height": 408
        }
      },
      "cell_type": "code",
      "source": [
        "network.summary()"
      ],
      "execution_count": 25,
      "outputs": [
        {
          "output_type": "stream",
          "text": [
            "_________________________________________________________________\n",
            "Layer (type)                 Output Shape              Param #   \n",
            "=================================================================\n",
            "inputLayer (Conv2D)          (None, 26, 26, 32)        320       \n",
            "_________________________________________________________________\n",
            "max_pooling2d_1 (MaxPooling2 (None, 13, 13, 32)        0         \n",
            "_________________________________________________________________\n",
            "conv2d_1 (Conv2D)            (None, 11, 11, 64)        18496     \n",
            "_________________________________________________________________\n",
            "max_pooling2d_2 (MaxPooling2 (None, 5, 5, 64)          0         \n",
            "_________________________________________________________________\n",
            "conv2d_2 (Conv2D)            (None, 3, 3, 64)          36928     \n",
            "_________________________________________________________________\n",
            "flatten_1 (Flatten)          (None, 576)               0         \n",
            "_________________________________________________________________\n",
            "dense_1 (Dense)              (None, 64)                36928     \n",
            "_________________________________________________________________\n",
            "inferenceLayer (Dense)       (None, 10)                650       \n",
            "=================================================================\n",
            "Total params: 93,322\n",
            "Trainable params: 93,322\n",
            "Non-trainable params: 0\n",
            "_________________________________________________________________\n"
          ],
          "name": "stdout"
        }
      ]
    },
    {
      "metadata": {
        "id": "T5cKHRKH4Rg_",
        "colab_type": "text"
      },
      "cell_type": "markdown",
      "source": [
        "# 7. Train the network"
      ]
    },
    {
      "metadata": {
        "id": "NAQIQGaL4RhA",
        "colab_type": "text"
      },
      "cell_type": "markdown",
      "source": [
        "Feed the training images and labels to the network.\n",
        "\n",
        "Two additional parameters need to be supplied:\n",
        "\n",
        "- epochs: how many times the network will look at the entire dataset. \n",
        "- batch_size: how many images will be put through the network at one time."
      ]
    },
    {
      "metadata": {
        "id": "ptZzVWVd4RhB",
        "colab_type": "code",
        "outputId": "ef86eeff-bfaa-4090-e557-87032f603ed8",
        "colab": {
          "base_uri": "https://localhost:8080/",
          "height": 224
        }
      },
      "cell_type": "code",
      "source": [
        "network.fit(train_images_transformed, train_labels_categorical, epochs=5, batch_size=128)"
      ],
      "execution_count": 26,
      "outputs": [
        {
          "output_type": "stream",
          "text": [
            "Epoch 1/5\n",
            "60000/60000 [==============================] - 9s 148us/step - loss: 0.2199 - acc: 0.9313\n",
            "Epoch 2/5\n",
            "60000/60000 [==============================] - 5s 83us/step - loss: 0.0547 - acc: 0.9830\n",
            "Epoch 3/5\n",
            "60000/60000 [==============================] - 5s 83us/step - loss: 0.0365 - acc: 0.9892\n",
            "Epoch 4/5\n",
            "60000/60000 [==============================] - 5s 83us/step - loss: 0.0275 - acc: 0.9914\n",
            "Epoch 5/5\n",
            "60000/60000 [==============================] - 5s 83us/step - loss: 0.0213 - acc: 0.9933\n"
          ],
          "name": "stdout"
        },
        {
          "output_type": "execute_result",
          "data": {
            "text/plain": [
              "<keras.callbacks.History at 0x7f93a8fd80b8>"
            ]
          },
          "metadata": {
            "tags": []
          },
          "execution_count": 26
        }
      ]
    },
    {
      "metadata": {
        "id": "N_Xtc1p64RhC",
        "colab_type": "text"
      },
      "cell_type": "markdown",
      "source": [
        "# 8. Test the network"
      ]
    },
    {
      "metadata": {
        "id": "TxGVhzyE4RhD",
        "colab_type": "text"
      },
      "cell_type": "markdown",
      "source": [
        "Use the test set (which the network has not seen yet) to test how well the network will perform on images it has not seen yet:"
      ]
    },
    {
      "metadata": {
        "id": "7F7Yy50Z9vMq",
        "colab_type": "text"
      },
      "cell_type": "markdown",
      "source": [
        ""
      ]
    },
    {
      "metadata": {
        "id": "PlwZ_5s14RhE",
        "colab_type": "code",
        "outputId": "c405826f-6a6a-40c6-8275-af1267ceb032",
        "colab": {
          "base_uri": "https://localhost:8080/",
          "height": 34
        }
      },
      "cell_type": "code",
      "source": [
        "test_loss, test_acc = network.evaluate(test_images_transformed, test_labels_categorical)"
      ],
      "execution_count": 27,
      "outputs": [
        {
          "output_type": "stream",
          "text": [
            "10000/10000 [==============================] - 1s 89us/step\n"
          ],
          "name": "stdout"
        }
      ]
    },
    {
      "metadata": {
        "id": "PFXQuOMp4RhF",
        "colab_type": "code",
        "outputId": "e80372e8-1833-443c-899e-470646bb6e4f",
        "colab": {
          "base_uri": "https://localhost:8080/",
          "height": 34
        }
      },
      "cell_type": "code",
      "source": [
        "print('test_acc; ', test_acc)"
      ],
      "execution_count": 28,
      "outputs": [
        {
          "output_type": "stream",
          "text": [
            "test_acc;  0.992\n"
          ],
          "name": "stdout"
        }
      ]
    },
    {
      "metadata": {
        "id": "TrURiRDF4RhG",
        "colab_type": "code",
        "colab": {}
      },
      "cell_type": "code",
      "source": [
        ""
      ],
      "execution_count": 0,
      "outputs": []
    },
    {
      "metadata": {
        "id": "hma0QD_d9zYi",
        "colab_type": "text"
      },
      "cell_type": "markdown",
      "source": [
        "# 9. Export the network"
      ]
    },
    {
      "metadata": {
        "id": "a2Fytaj39_25",
        "colab_type": "code",
        "outputId": "2fc75a7a-806e-4483-d528-bdf0e239c334",
        "colab": {
          "base_uri": "https://localhost:8080/",
          "height": 68
        }
      },
      "cell_type": "code",
      "source": [
        "builder = tf.saved_model.builder.SavedModelBuilder(\"myModel\")\n",
        "\n",
        "with tf.Session(graph=tf.Graph()) as sess:\n",
        "    builder.add_meta_graph_and_variables(sess,\n",
        "                                  [\"myTag\"]\n",
        "                                  \n",
        "                                  )\n",
        "    \n",
        "builder.save()  \n",
        "sess.close()"
      ],
      "execution_count": 31,
      "outputs": [
        {
          "output_type": "stream",
          "text": [
            "INFO:tensorflow:No assets to save.\n",
            "INFO:tensorflow:No assets to write.\n",
            "INFO:tensorflow:SavedModel written to: myModel/saved_model.pb\n"
          ],
          "name": "stdout"
        }
      ]
    },
    {
      "metadata": {
        "id": "dTe6Ngnx7sOp",
        "colab_type": "code",
        "colab": {}
      },
      "cell_type": "code",
      "source": [
        ""
      ],
      "execution_count": 0,
      "outputs": []
    },
    {
      "metadata": {
        "id": "t9ilQ96kI5dj",
        "colab_type": "code",
        "colab": {}
      },
      "cell_type": "code",
      "source": [
        "!rm -rf myModel"
      ],
      "execution_count": 0,
      "outputs": []
    }
  ]
}